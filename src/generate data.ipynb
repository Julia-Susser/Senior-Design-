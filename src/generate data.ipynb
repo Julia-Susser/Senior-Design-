{
 "cells": [
  {
   "cell_type": "code",
   "execution_count": 1,
   "id": "b956e83a",
   "metadata": {},
   "outputs": [
    {
     "name": "stdout",
     "output_type": "stream",
     "text": [
      "=== Portfolio Data Generator ===\n",
      "Generating sample portfolio data for risk analysis platform\n",
      "\n"
     ]
    }
   ],
   "source": [
    "# Portfolio Data Generator\n",
    "# This notebook generates sample portfolio data and saves it to an inputs file\n",
    "# for use by the risk analysis platform\n",
    "\n",
    "import pandas as pd\n",
    "import numpy as np\n",
    "from datetime import datetime, timedelta\n",
    "import json\n",
    "import os\n",
    "\n",
    "print(\"=== Portfolio Data Generator ===\")\n",
    "print(\"Generating sample portfolio data for risk analysis platform\")\n",
    "print()\n"
   ]
  },
  {
   "cell_type": "code",
   "execution_count": 2,
   "id": "2cfb8ed9",
   "metadata": {},
   "outputs": [
    {
     "name": "stdout",
     "output_type": "stream",
     "text": [
      "Generated portfolio with 16 positions\n",
      "\n",
      "Sample Portfolio Holdings:\n",
      "symbol  shares purchase_date  purchase_price           sector\n",
      "  AAPL     100    2023-01-15           150.0       Technology\n",
      "  MSFT      50    2023-02-20           250.0       Technology\n",
      " GOOGL      30    2023-03-10          2800.0       Technology\n",
      "   SPY     200    2023-01-01           400.0              ETF\n",
      "   QQQ      75    2023-02-01           320.0              ETF\n",
      "   VTI     150    2023-01-10           220.0              ETF\n",
      "  TSLA      25    2023-04-01           200.0       Automotive\n",
      "  NVDA      40    2023-03-15           300.0       Technology\n",
      "   JPM      80    2023-02-05           140.0       Financials\n",
      "   BAC     120    2023-01-20            35.0       Financials\n",
      "   VEA     100    2023-01-25            50.0              ETF\n",
      "   VWO      80    2023-02-15            40.0              ETF\n",
      "   JNJ      60    2023-03-01           160.0       Healthcare\n",
      "   PFE      90    2023-01-30            45.0       Healthcare\n",
      "    KO      70    2023-02-10            60.0 Consumer Staples\n",
      "    PG      50    2023-03-05           150.0 Consumer Staples\n",
      "\n"
     ]
    }
   ],
   "source": [
    "\n",
    "# Create a diversified portfolio with different asset types\n",
    "sample_portfolio = [\n",
    "    # Large Cap Tech Stocks\n",
    "    {'symbol': 'AAPL', 'shares': 100, 'purchase_date': '2023-01-15', 'purchase_price': 150.00, 'sector': 'Technology'},\n",
    "    {'symbol': 'MSFT', 'shares': 50, 'purchase_date': '2023-02-20', 'purchase_price': 250.00, 'sector': 'Technology'},\n",
    "    {'symbol': 'GOOGL', 'shares': 30, 'purchase_date': '2023-03-10', 'purchase_price': 2800.00, 'sector': 'Technology'},\n",
    "    \n",
    "    # ETFs for diversification\n",
    "    {'symbol': 'SPY', 'shares': 200, 'purchase_date': '2023-01-01', 'purchase_price': 400.00, 'sector': 'ETF'},\n",
    "    {'symbol': 'QQQ', 'shares': 75, 'purchase_date': '2023-02-01', 'purchase_price': 320.00, 'sector': 'ETF'},\n",
    "    {'symbol': 'VTI', 'shares': 150, 'purchase_date': '2023-01-10', 'purchase_price': 220.00, 'sector': 'ETF'},\n",
    "    \n",
    "    # Growth Stocks\n",
    "    {'symbol': 'TSLA', 'shares': 25, 'purchase_date': '2023-04-01', 'purchase_price': 200.00, 'sector': 'Automotive'},\n",
    "    {'symbol': 'NVDA', 'shares': 40, 'purchase_date': '2023-03-15', 'purchase_price': 300.00, 'sector': 'Technology'},\n",
    "    \n",
    "    # Financial Sector\n",
    "    {'symbol': 'JPM', 'shares': 80, 'purchase_date': '2023-02-05', 'purchase_price': 140.00, 'sector': 'Financials'},\n",
    "    {'symbol': 'BAC', 'shares': 120, 'purchase_date': '2023-01-20', 'purchase_price': 35.00, 'sector': 'Financials'},\n",
    "    \n",
    "    # International Exposure\n",
    "    {'symbol': 'VEA', 'shares': 100, 'purchase_date': '2023-01-25', 'purchase_price': 50.00, 'sector': 'ETF'},\n",
    "    {'symbol': 'VWO', 'shares': 80, 'purchase_date': '2023-02-15', 'purchase_price': 40.00, 'sector': 'ETF'},\n",
    "    \n",
    "    # Healthcare\n",
    "    {'symbol': 'JNJ', 'shares': 60, 'purchase_date': '2023-03-01', 'purchase_price': 160.00, 'sector': 'Healthcare'},\n",
    "    {'symbol': 'PFE', 'shares': 90, 'purchase_date': '2023-01-30', 'purchase_price': 45.00, 'sector': 'Healthcare'},\n",
    "    \n",
    "    # Consumer Staples\n",
    "    {'symbol': 'KO', 'shares': 70, 'purchase_date': '2023-02-10', 'purchase_price': 60.00, 'sector': 'Consumer Staples'},\n",
    "    {'symbol': 'PG', 'shares': 50, 'purchase_date': '2023-03-05', 'purchase_price': 150.00, 'sector': 'Consumer Staples'}\n",
    "]\n",
    "    \n",
    "\n",
    "\n",
    "print(f\"Generated portfolio with {len(sample_portfolio)} positions\")\n",
    "print()\n",
    "\n",
    "# Display the portfolio\n",
    "portfolio_df = pd.DataFrame(sample_portfolio)\n",
    "print(\"Sample Portfolio Holdings:\")\n",
    "print(portfolio_df.to_string(index=False))\n",
    "print()\n"
   ]
  },
  {
   "cell_type": "code",
   "execution_count": null,
   "id": "c465a011",
   "metadata": {},
   "outputs": [
    {
     "name": "stdout",
     "output_type": "stream",
     "text": [
      "Portfolio data saved to ../inputs/portfolio1/portfolio_data\n",
      "Total Initial Investment: $314,450.00\n",
      "Number of Positions: 16\n",
      "\n",
      "Sector Allocation:\n",
      "  Technology: 4 positions\n",
      "  ETF: 5 positions\n",
      "  Automotive: 1 positions\n",
      "  Financials: 2 positions\n",
      "  Healthcare: 2 positions\n",
      "  Consumer Staples: 2 positions\n",
      "\n"
     ]
    }
   ],
   "source": [
    "filename = \"../inputs/portfolio1/portfolio_data\"\n",
    "os.makedirs(\"../inputs/portfolio1\", exist_ok=True)\n",
    "    \n",
    "portfolio_df.to_excel(filename+\".xlsx\", index=False)\n",
    "portfolio_df.to_csv(filename+\".csv\", index=False)\n",
    "print(f\"Portfolio data saved to {filename}\")\n",
    "\n",
    "\n",
    "\n",
    "\n",
    "# Display portfolio summary\n",
    "total_investment = sum([pos['shares'] * pos['purchase_price'] for pos in sample_portfolio])\n",
    "print(f\"Total Initial Investment: ${total_investment:,.2f}\")\n",
    "print(f\"Number of Positions: {len(sample_portfolio)}\")\n",
    "\n",
    "# Sector breakdown\n",
    "sector_counts = {}\n",
    "for pos in sample_portfolio:\n",
    "    sector = pos['sector']\n",
    "    sector_counts[sector] = sector_counts.get(sector, 0) + 1\n",
    "\n",
    "print(\"\\nSector Allocation:\")\n",
    "for sector, count in sector_counts.items():\n",
    "    print(f\"  {sector}: {count} positions\")\n",
    "print()\n"
   ]
  },
  {
   "cell_type": "code",
   "execution_count": null,
   "id": "224cfaaa",
   "metadata": {},
   "outputs": [],
   "source": []
  },
  {
   "cell_type": "code",
   "execution_count": null,
   "id": "5c56f774",
   "metadata": {},
   "outputs": [],
   "source": []
  }
 ],
 "metadata": {
  "kernelspec": {
   "display_name": "myenv",
   "language": "python",
   "name": "python3"
  },
  "language_info": {
   "codemirror_mode": {
    "name": "ipython",
    "version": 3
   },
   "file_extension": ".py",
   "mimetype": "text/x-python",
   "name": "python",
   "nbconvert_exporter": "python",
   "pygments_lexer": "ipython3",
   "version": "3.12.11"
  }
 },
 "nbformat": 4,
 "nbformat_minor": 5
}
